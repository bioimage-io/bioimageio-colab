{
 "cells": [
  {
   "cell_type": "code",
   "execution_count": 4,
   "id": "69ebb748-9189-4443-a427-913d3a5ee6ce",
   "metadata": {},
   "outputs": [
    {
     "name": "stdout",
     "output_type": "stream",
     "text": [
      "https://imjoy.io/lite?plugin=https://raw.githubusercontent.com/bioimage-io/bioimageio-colab/main/plugins/bioimageio-colab.imjoy.html\n",
      "WARNING:websocket-client:Connection is broken, reopening a new connection.\n"
     ]
    }
   ],
   "source": [
    "import os\n",
    "from imjoy_rpc.hypha import connect_to_server\n",
    "import numpy as np\n",
    "# Prepare paths for output\n",
    "from tifffile import imread, imwrite\n",
    "from kaibu_utils import fetch_image, features_to_mask\n",
    "\n",
    "url = \"https://github.com/bioimage-io/bioimageio-colab/releases/download/v0.1/hpa-dataset-v2-98-rgb.zip\"\n",
    "\n",
    "path2data = \"\"\n",
    "outpath = \"\"\n",
    "os.makedirs(outpath, exist_ok=True)\n",
    "\n",
    "training_images = []\n",
    "async def start_server(server_url,path2data, outpath):\n",
    "\n",
    "    path2label = os.path.join(outpath, \"labels\")\n",
    "    os.makedirs(path2label, exist_ok=True)\n",
    "    \n",
    "    path2source = os.path.join(outpath, \"source\")\n",
    "    os.makedirs(path2source, exist_ok=True)\n",
    "    # Connect to the server link\n",
    "    server = await connect_to_server({\"server_url\": server_url})\n",
    "    # When multiple people open the link above, they can join a common workspace as an ImJoy client\n",
    "    def add_image(image, label):\n",
    "        training_images.append((image, label))\n",
    "        print(f\"{len(training_images)} available already.\")\n",
    "        return\n",
    "    \n",
    "    def get_random_image():\n",
    "        filenames = [f for f in os.listdir(path2data) if f.endswith(\".tif\")]\n",
    "        n = np.random.randint(len(filenames)-1)\n",
    "        image = imread(os.path.join(path2data, filenames[n]))\n",
    "        #print(image.shape)\n",
    "        new_filename = f\"{len(os.listdir(path2source)) + 1}_{filenames[n]}\"\n",
    "        \n",
    "\n",
    "        return image, filenames[n], new_filename,  \n",
    "    \n",
    "    def save_annotation(filename, newname, features, image_shape):\n",
    "        mask = features_to_mask(features, image_shape)\n",
    "        image = imread(os.path.join(path2data, filename))\n",
    "        imwrite(os.path.join(path2source, newname), image)\n",
    "        imwrite(os.path.join(path2label, newname), mask)\n",
    "        \n",
    "        \n",
    "    await server.register_service({\n",
    "        \"name\": \"Model Trainer\",\n",
    "        \"id\": \"biocolab\",\n",
    "        \"config\": {\n",
    "            \"visibility\": \"public\"\n",
    "        },\n",
    "        \"get_random_image\": get_random_image,\n",
    "        \"save_annotation\": save_annotation,\n",
    "        \n",
    "    })\n",
    "\n",
    "    print(\"https://imjoy.io/lite?plugin=https://raw.githubusercontent.com/bioimage-io/bioimageio-colab/main/plugins/bioimageio-colab.imjoy.html\")\n",
    "\n",
    "\n",
    "server_url = \"https://ai.imjoy.io\"\n",
    "await start_server(server_url, path2data, outpath)"
   ]
  }
 ],
 "metadata": {
  "kernelspec": {
   "display_name": "Python 3 (ipykernel)",
   "language": "python",
   "name": "python3"
  },
  "language_info": {
   "codemirror_mode": {
    "name": "ipython",
    "version": 3
   },
   "file_extension": ".py",
   "mimetype": "text/x-python",
   "name": "python",
   "nbconvert_exporter": "python",
   "pygments_lexer": "ipython3",
   "version": "3.10.0"
  }
 },
 "nbformat": 4,
 "nbformat_minor": 5
}
